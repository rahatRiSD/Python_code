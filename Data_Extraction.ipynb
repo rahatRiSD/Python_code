{
 "cells": [
  {
   "cell_type": "code",
   "execution_count": 1,
   "id": "2b377297-42b6-4070-a019-875f5db65604",
   "metadata": {},
   "outputs": [
    {
     "name": "stdout",
     "output_type": "stream",
     "text": [
      "       PMID                                              Title  \\\n",
      "0  40202866  A Deep-Learning-Enabled Workflow to Estimate R...   \n",
      "1  40153782  Large Language Model Applications for Health I...   \n",
      "2  39965024  Leveraging natural language processing for eff...   \n",
      "3  39894080  NLP for Analyzing Electronic Health Records an...   \n",
      "4  39881478  Exploring the Social Media Discussion of Breas...   \n",
      "\n",
      "                                             Authors                 Source  \\\n",
      "0  \\nVarma G\\nYenukoti RK\\nKumar M P\\nAshrit BS\\n...            JMIR Cancer   \n",
      "1  \\nChen D\\nAlnassar SA\\nAvison KE\\nHuang RS\\nRa...            JMIR Cancer   \n",
      "2  \\nPark P\\nChoi Y\\nHan N\\nPark YL\\nHwang J\\nCha...               PLoS One   \n",
      "3                      \\nBilal M\\nHamza A\\nMalik N\\n  J Pain Symptom Manage   \n",
      "4  \\nSpiegel DY\\nFriesner ID\\nZhang W\\nZack T\\nYa...            JMIR Cancer   \n",
      "\n",
      "  Publication Date  \n",
      "0      2025 Mar 21  \n",
      "1      2025 Mar 28  \n",
      "2             2025  \n",
      "3      2025 Jan 31  \n",
      "4      2025 Jan 28  \n"
     ]
    }
   ],
   "source": [
    "import requests\n",
    "import pandas as pd\n",
    "from bs4 import BeautifulSoup\n",
    "\n",
    "# Example: Fetching metadata from PubMed using the Entrez API\n",
    "def fetch_pubmed_data(query, max_results=10):\n",
    "    # PubMed API URL\n",
    "    url = f\"https://eutils.ncbi.nlm.nih.gov/entrez/eutils/esearch.fcgi?db=pubmed&term={query}&retmax={max_results}&usehistory=y\"\n",
    "    \n",
    "    # Make request to PubMed API\n",
    "    response = requests.get(url)\n",
    "    \n",
    "    # Parse XML response\n",
    "    xml_data = response.text\n",
    "    soup = BeautifulSoup(xml_data, 'xml')\n",
    "    \n",
    "    # Extract PubMed IDs (PMID) from the response\n",
    "    pmids = [pmid.text for pmid in soup.find_all('Id')]\n",
    "    \n",
    "    # Fetch article details using PubMed IDs\n",
    "    article_details = []\n",
    "    for pmid in pmids:\n",
    "        article_url = f\"https://eutils.ncbi.nlm.nih.gov/entrez/eutils/esummary.fcgi?db=pubmed&id={pmid}&retmode=xml\"\n",
    "        article_response = requests.get(article_url)\n",
    "        article_soup = BeautifulSoup(article_response.text, 'xml')\n",
    "        \n",
    "        # Extract metadata\n",
    "        title = article_soup.find('Item', {'Name': 'Title'}).text\n",
    "        authors = article_soup.find('Item', {'Name': 'AuthorList'}).text\n",
    "        source = article_soup.find('Item', {'Name': 'Source'}).text\n",
    "        pubdate = article_soup.find('Item', {'Name': 'PubDate'}).text\n",
    "        \n",
    "        # Append article data to list\n",
    "        article_details.append({\n",
    "            'PMID': pmid,\n",
    "            'Title': title,\n",
    "            'Authors': authors,\n",
    "            'Source': source,\n",
    "            'Publication Date': pubdate\n",
    "        })\n",
    "    \n",
    "    # Return data as DataFrame\n",
    "    return pd.DataFrame(article_details)\n",
    "\n",
    "# Example query: Fetch studies related to \"breast cancer NLP\"\n",
    "df = fetch_pubmed_data(\"breast+cancer+NLP\", max_results=5)\n",
    "print(df)\n",
    "\n",
    "# Save to CSV for further analysis\n",
    "df.to_csv(\"pubmed_studies.csv\", index=False)\n"
   ]
  },
  {
   "cell_type": "code",
   "execution_count": 2,
   "id": "1c63dee1-8e15-4748-914e-c21e128ca6a0",
   "metadata": {},
   "outputs": [
    {
     "name": "stdout",
     "output_type": "stream",
     "text": [
      "Collecting lxml\n",
      "  Downloading lxml-5.3.2-cp312-cp312-macosx_10_9_universal2.whl.metadata (3.6 kB)\n",
      "Downloading lxml-5.3.2-cp312-cp312-macosx_10_9_universal2.whl (8.2 MB)\n",
      "\u001b[2K   \u001b[90m━━━━━━━━━━━━━━━━━━━━━━━━━━━━━━━━━━━━━━━━\u001b[0m \u001b[32m8.2/8.2 MB\u001b[0m \u001b[31m3.0 MB/s\u001b[0m eta \u001b[36m0:00:00\u001b[0ma \u001b[36m0:00:01\u001b[0m\n",
      "\u001b[?25hInstalling collected packages: lxml\n",
      "Successfully installed lxml-5.3.2\n",
      "\n",
      "\u001b[1m[\u001b[0m\u001b[34;49mnotice\u001b[0m\u001b[1;39;49m]\u001b[0m\u001b[39;49m A new release of pip is available: \u001b[0m\u001b[31;49m24.3.1\u001b[0m\u001b[39;49m -> \u001b[0m\u001b[32;49m25.0.1\u001b[0m\n",
      "\u001b[1m[\u001b[0m\u001b[34;49mnotice\u001b[0m\u001b[1;39;49m]\u001b[0m\u001b[39;49m To update, run: \u001b[0m\u001b[32;49mpip install --upgrade pip\u001b[0m\n",
      "Note: you may need to restart the kernel to use updated packages.\n"
     ]
    }
   ],
   "source": [
    "pip install lxml "
   ]
  },
  {
   "cell_type": "code",
   "execution_count": 2,
   "id": "5a84b37a-70b7-42c2-ad36-5794b0d4b260",
   "metadata": {},
   "outputs": [
    {
     "data": {
      "image/png": "[encoded data removed]",
      "text/plain": [
       "<Figure size 640x480 with 1 Axes>"
      ]
     },
     "metadata": {},
     "output_type": "display_data"
    }
   ],
   "source": [
    "import matplotlib.pyplot as plt\n",
    "\n",
    "def plot_prisma_flow():\n",
    "    stages = ['Identified', 'Screened', 'Eligible', 'Included']\n",
    "    counts = [100, 80, 60, 50]  # Example counts\n",
    "    \n",
    "    plt.bar(stages, counts)\n",
    "    plt.title('PRISMA Flow Diagram Example')\n",
    "    plt.xlabel('Stage')\n",
    "    plt.ylabel('Number of Studies')\n",
    "    plt.show()\n",
    "\n",
    "plot_prisma_flow()\n"
   ]
  },
  {
   "cell_type": "code",
   "execution_count": null,
   "id": "fd79cbf3-9084-4551-905b-8ed08b959798",
   "metadata": {},
   "outputs": [],
   "source": []
  }
 ],
 "metadata": {
  "kernelspec": {
   "display_name": "Python 3 (ipykernel)",
   "language": "python",
   "name": "python3"
  },
  "language_info": {
   "codemirror_mode": {
    "name": "ipython",
    "version": 3
   },
   "file_extension": ".py",
   "mimetype": "text/x-python",
   "name": "python",
   "nbconvert_exporter": "python",
   "pygments_lexer": "ipython3",
   "version": "3.12.7"
  }
 },
 "nbformat": 4,
 "nbformat_minor": 5
}
