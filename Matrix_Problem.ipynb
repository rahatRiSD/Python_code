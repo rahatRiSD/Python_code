{
 "cells": [
  {
   "cell_type": "markdown",
   "id": "1769677c-6bc6-4097-bcb3-d048fa962793",
   "metadata": {},
   "source": [
    "Transposition (Swapping Rows & Columns)"
   ]
  },
  {
   "cell_type": "code",
   "execution_count": 1,
   "id": "127e5b05-e6dd-49bb-bb6f-18a3128a7360",
   "metadata": {},
   "outputs": [
    {
     "name": "stdout",
     "output_type": "stream",
     "text": [
      "The history saving thread hit an unexpected error (OperationalError('attempt to write a readonly database')).History will not be written to the database.\n",
      "Original 2D Matrix:\n",
      " [[1 2 3]\n",
      " [4 5 6]]\n",
      "Transposed 2D Matrix:\n",
      " [[1 4]\n",
      " [2 5]\n",
      " [3 6]]\n"
     ]
    }
   ],
   "source": [
    "#For a 2D Matrix\n",
    "import numpy as np\n",
    "\n",
    "# Creating a 2D matrix\n",
    "matrix_2d = np.array([[1, 2, 3], \n",
    "                       [4, 5, 6]])\n",
    "\n",
    "# Transpose\n",
    "transpose_2d = matrix_2d.T\n",
    "\n",
    "print(\"Original 2D Matrix:\\n\", matrix_2d)\n",
    "print(\"Transposed 2D Matrix:\\n\", transpose_2d)\n"
   ]
  },
  {
   "cell_type": "code",
   "execution_count": 2,
   "id": "08e60c6e-e8ff-4e90-bf87-073333966930",
   "metadata": {},
   "outputs": [
    {
     "name": "stdout",
     "output_type": "stream",
     "text": [
      "Original 3D Matrix:\n",
      " [[[1 2]\n",
      "  [3 4]]\n",
      "\n",
      " [[5 6]\n",
      "  [7 8]]]\n",
      "Transposed 3D Matrix:\n",
      " [[[1 3]\n",
      "  [2 4]]\n",
      "\n",
      " [[5 7]\n",
      "  [6 8]]]\n"
     ]
    }
   ],
   "source": [
    "#For a 3D Matrix:\n",
    "matrix_3d = np.array([[[1, 2], [3, 4]], \n",
    "                       [[5, 6], [7, 8]]])\n",
    "\n",
    "transpose_3d = np.transpose(matrix_3d, (0, 2, 1))\n",
    "\n",
    "print(\"Original 3D Matrix:\\n\", matrix_3d)\n",
    "print(\"Transposed 3D Matrix:\\n\", transpose_3d)\n"
   ]
  },
  {
   "cell_type": "markdown",
   "id": "d0372aa0-e887-4644-b0cc-a41675ac8dc1",
   "metadata": {},
   "source": [
    "# Rotation"
   ]
  },
  {
   "cell_type": "code",
   "execution_count": null,
   "id": "c16fed58-35f8-46fe-8c5e-825d368f8180",
   "metadata": {},
   "outputs": [],
   "source": []
  },
  {
   "cell_type": "code",
   "execution_count": null,
   "id": "3a748ea9-3d31-48bd-99c0-9aa542c7f5c7",
   "metadata": {},
   "outputs": [],
   "source": []
  }
 ],
 "metadata": {
  "kernelspec": {
   "display_name": "Python 3 (ipykernel)",
   "language": "python",
   "name": "python3"
  },
  "language_info": {
   "codemirror_mode": {
    "name": "ipython",
    "version": 3
   },
   "file_extension": ".py",
   "mimetype": "text/x-python",
   "name": "python",
   "nbconvert_exporter": "python",
   "pygments_lexer": "ipython3",
   "version": "3.12.7"
  }
 },
 "nbformat": 4,
 "nbformat_minor": 5
}
