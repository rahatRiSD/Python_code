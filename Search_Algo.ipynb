{
 "cells": [
  {
   "cell_type": "markdown",
   "id": "b8099e07-50f7-43ab-97b3-e9b19c3a1036",
   "metadata": {},
   "source": [
    "# Linear Search (Sequential Search)\n",
    "# Complexity: 𝑂(𝑛)\n",
    "# O(n) (worst case)\n",
    "# Best for: Small, unsorted datasets"
   ]
  },
  {
   "cell_type": "code",
   "execution_count": 1,
   "id": "8f9af837-60ff-4f98-bb3e-b6ad05938a49",
   "metadata": {},
   "outputs": [
    {
     "name": "stdout",
     "output_type": "stream",
     "text": [
      "2\n"
     ]
    }
   ],
   "source": [
    "def linear_search(arr, target):\n",
    "    for i, val in enumerate(arr):\n",
    "        if val == target:\n",
    "            return i  # Found, return index\n",
    "    return -1  # Not found\n",
    "\n",
    "# Example\n",
    "arr = [10, 20, 30, 40, 50]\n",
    "print(linear_search(arr, 30))  # Output: 2\n"
   ]
  },
  {
   "cell_type": "markdown",
   "id": "15e26fef-c244-48da-901e-992dc72b36d8",
   "metadata": {},
   "source": [
    "# Binary Search"
   ]
  },
  {
   "cell_type": "code",
   "execution_count": 2,
   "id": "a9c09bc8-1cc2-464b-af0b-a2e21c752c15",
   "metadata": {},
   "outputs": [
    {
     "name": "stdout",
     "output_type": "stream",
     "text": [
      "2\n"
     ]
    }
   ],
   "source": [
    "def binary_search(arr, target):\n",
    "    left, right = 0, len(arr) - 1\n",
    "    while left <= right:\n",
    "        mid = (left + right) // 2\n",
    "        if arr[mid] == target:\n",
    "            return mid\n",
    "        elif arr[mid] < target:\n",
    "            left = mid + 1\n",
    "        else:\n",
    "            right = mid - 1\n",
    "    return -1  # Not found\n",
    "\n",
    "# Example\n",
    "arr = [10, 20, 30, 40, 50]\n",
    "print(binary_search(arr, 30))  # Output: 2\n"
   ]
  },
  {
   "cell_type": "markdown",
   "id": "8a4accba-d7e1-48e0-8cf3-bba00aad2c28",
   "metadata": {},
   "source": [
    "# Jump Search"
   ]
  },
  {
   "cell_type": "code",
   "execution_count": 3,
   "id": "a772bbc4-33c3-420c-b6b2-b86094beb78a",
   "metadata": {},
   "outputs": [
    {
     "name": "stdout",
     "output_type": "stream",
     "text": [
      "-1\n"
     ]
    }
   ],
   "source": [
    "import math\n",
    "\n",
    "def jump_search(arr, target):\n",
    "    n = len(arr)\n",
    "    step = int(math.sqrt(n))\n",
    "    prev, curr = 0, 0\n",
    "\n",
    "    while curr < n and arr[curr] < target:\n",
    "        prev = curr\n",
    "        curr += step\n",
    "        if curr >= n:\n",
    "            break\n",
    "\n",
    "    for i in range(prev, min(curr, n)):\n",
    "        if arr[i] == target:\n",
    "            return i\n",
    "    return -1  # Not found\n",
    "\n",
    "# Example\n",
    "arr = [10, 20, 30, 40, 50]\n",
    "print(jump_search(arr, 30))  # Output: 2\n"
   ]
  },
  {
   "cell_type": "markdown",
   "id": "f8c73f1f-8c07-46a1-9b81-a848adee8b87",
   "metadata": {},
   "source": [
    "# Interpolation Search"
   ]
  },
  {
   "cell_type": "code",
   "execution_count": null,
   "id": "fe927696-1243-45d7-a804-12703421f75f",
   "metadata": {},
   "outputs": [],
   "source": []
  }
 ],
 "metadata": {
  "kernelspec": {
   "display_name": "Python 3 (ipykernel)",
   "language": "python",
   "name": "python3"
  },
  "language_info": {
   "codemirror_mode": {
    "name": "ipython",
    "version": 3
   },
   "file_extension": ".py",
   "mimetype": "text/x-python",
   "name": "python",
   "nbconvert_exporter": "python",
   "pygments_lexer": "ipython3",
   "version": "3.12.7"
  }
 },
 "nbformat": 4,
 "nbformat_minor": 5
}
