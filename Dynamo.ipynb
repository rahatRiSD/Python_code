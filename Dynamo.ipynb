# yolo12m_train_disable_dynamo_fix.py
# -----------------------------------------------------------------------------
# 1. Monkey-patch torch._dynamo.external_utils to prevent the attribute error
# 2. Disable Dynamo/tracing
# 3. Find each image’s XML (exact or *_orig.xml fallback)
# 4. Parse VOC XML → YOLO TXT (scale 320×320→640×640)
# 5. Split into train/val/test, copy images & write labels
# 6. Clear labels.cache, write data.yaml
# 7. Train & eval YOLOv12m with compile=False, cache=False

import os

# 0. First, disable torch.compile/Dynamo via env
os.environ["TORCH_COMPILE_DISABLE"] = "1"
os.environ["TORCHDYNAMO_DISABLE"] = "1"

import torch, types

# 1. Monkey-patch missing external_utils and disable Dynamo
if hasattr(torch, "_dynamo"):
    import torch._dynamo as td
    # ensure external_utils exists
    td.external_utils = types.SimpleNamespace(is_compiling=lambda *a, **k: False)
    # fully turn off
    try:
        td.reset()
        td.disable()
    except Exception:
        pass
print("✅ torch._dynamo monkey-patched and disabled")

import glob
import shutil
import random
import xml.etree.ElementTree as ET
import cv2
import time
import gc
import matplotlib.pyplot as plt
from ultralytics import YOLO

# 2. Configuration
DATASET_DIR = "/content/dataset"
ANN_BASE    = os.path.join(DATASET_DIR, "preprocessed_and_augmented_dataset_annotations")
IMG_BASE    = os.path.join(DATASET_DIR, "preprocessed_and_augmented_dataset_images")
YOLO_DIR    = "/content/yolo_dataset"
SEQS        = [f"sequence_{i}" for i in range(1,7)]
TRAIN_RATIO = 0.7
VAL_RATIO   = 0.2
TEST_RATIO  = 0.1
ALLOWED     = ["chair","exit","fireextinguisher","clock","screen","trashbin","printer"]
IMG_SIZE    = 416
BATCH_SIZE  = 1
USE_AMP     = True
LRS         = [1e-3, 1e-4]
CONFS       = [0.1, 0.2]
EPOCHS      = 50

# ensure YOLO subdirs
for split in ("train","val","test"):
    os.makedirs(os.path.join(YOLO_DIR, split, "images"), exist_ok=True)
    os.makedirs(os.path.join(YOLO_DIR, split, "labels"), exist_ok=True)

# 3. Gather all images
all_images = []
for seq in SEQS:
    d = os.path.join(IMG_BASE, seq)
    if os.path.isdir(d):
        for fn in os.listdir(d):
            if fn.lower().endswith((".jpg",".jpeg",".png")):
                all_images.append(os.path.join(d, fn))
random.shuffle(all_images)
print(f"Found {len(all_images)} images")

# 4. Split
N = len(all_images)
i1 = int(N * TRAIN_RATIO)
i2 = int(N * (TRAIN_RATIO + VAL_RATIO))
splits = {
    "train": all_images[:i1],
    "val":   all_images[i1:i2],
    "test":  all_images[i2:]
}
print({k: len(v) for k,v in splits.items()})

# 5. XML find & parse
def find_xml(img_path):
    seq  = os.path.basename(os.path.dirname(img_path))
    base = os.path.splitext(os.path.basename(img_path))[0]
    xmld = os.path.join(ANN_BASE, seq)
    ex   = os.path.join(xmld, base + ".xml")
    if os.path.isfile(ex): return ex
    cand = glob.glob(os.path.join(xmld, base + "_*.xml"))
    return cand[0] if cand else None

def parse_xml(xm, scale=2.0):
    tree = ET.parse(xm)
    root = tree.getroot()
    boxes, labs = [], []
    for obj in root.findall("object"):
        cls = obj.findtext("name","").strip()
        if cls not in ALLOWED: continue
        bnd = obj.find("bndbox")
        x1 = int(float(bnd.find("xmin").text) * scale)
        y1 = int(float(bnd.find("ymin").text) * scale)
        x2 = int(float(bnd.find("xmax").text) * scale)
        y2 = int(float(bnd.find("ymax").text) * scale)
        boxes.append((x1,y1,x2,y2))
        labs .append(cls)
    return boxes, labs

def to_yolo(sz, box, new=(IMG_SIZE,IMG_SIZE)):
    w,h = sz; nw,nh = new
    sx,sy = nw/w, nh/h
    x1,y1,x2,y2 = box
    x1,x2 = x1*sx, x2*sx; y1,y2 = y1*sy, y2*sy
    xc = ((x1+x2)/2)/nw; yc = ((y1+y2)/2)/nh
    bw, bh = (x2-x1)/nw, (y2-y1)/nh
    return xc, yc, bw, bh

# 6. Generate labels & copy images
unmapped = []
for split, imgs in splits.items():
    for img_path in imgs:
        fn   = os.path.basename(img_path)
        base = os.path.splitext(fn)[0]
        xmlp = find_xml(img_path)
        lines = []
        if xmlp:
            bxs, cls = parse_xml(xmlp, scale=2.0)
            img = cv2.imread(img_path); h,w = img.shape[:2]
            for bx,cl in zip(bxs, cls):
                cid = ALLOWED.index(cl)
                xc,yc,bw,bh = to_yolo((w,h), bx)
                lines.append(f"{cid} {xc:.6f} {yc:.6f} {bw:.6f} {bh:.6f}")
        else:
            unmapped.append(base)
        # copy image
        shutil.copy2(img_path, os.path.join(YOLO_DIR, split, "images", fn))
        # write label
        with open(os.path.join(YOLO_DIR, split, "labels", base + ".txt"), "w") as f:
            f.write("\n".join(lines))

if unmapped:
    print(f"[WARN] {len(set(unmapped))} images had no XML:", sorted(set(unmapped)))
else:
    print("All images mapped to XML.")

# 7. Clear caches
for split in ("train","val","test"):
    cfile = os.path.join(YOLO_DIR, split, "labels.cache")
    if os.path.exists(cfile): os.remove(cfile)
print("Cleared old labels.cache")

# 8. data.yaml
dy = f"""
train: {YOLO_DIR}/train/images
val:   {YOLO_DIR}/val/images
test:  {YOLO_DIR}/test/images

nc: {len(ALLOWED)}
names: {ALLOWED}
""".strip()
with open(os.path.join(YOLO_DIR, "data.yaml"), "w") as f:
    f.write(dy)
print("data.yaml created")

# 9. Train & eval with compile=False, cache=False
model = YOLO("yolo12m.pt")

def plot_map(metrics, split):
    arr = metrics["metrics"][split]["classes"]["mAP50"]
    plt.figure(figsize=(6,4))
    plt.bar(ALLOWED, arr)
    plt.title(f"mAP@50 per class ({split})")
    plt.xticks(rotation=45)
    plt.tight_layout()
    plt.show()

for lr in LRS:
    for conf in CONFS:
        print(f"\n>>> Training lr={lr}, conf={conf}")
        model.train(
            data    = os.path.join(YOLO_DIR, "data.yaml"),
            epochs  = EPOCHS,
            batch   = BATCH_SIZE,
            lr0     = lr,
            amp     = USE_AMP,
            imgsz   = IMG_SIZE,
            compile = False,   # disable torch.compile
            cache   = False,   # disable labels.cache
            plots   = False,
            verbose = False
        )
        m = {}
        for split in ("train","val","test"):
            out = model.val(
                data   = os.path.join(YOLO_DIR, "data.yaml"),
                split  = split,
                batch  = 8,
                conf   = conf,
                cache  = False
            ).results_dict
            m[split] = {"classes": out["classes"]}
        for split in ("train","val","test"):
            plot_map({"metrics": m}, split)

# 10. Inference
for p in splits["test"][:6]:
    img = cv2.imread(p)
    t0 = time.time()
    res = model(img)
    print(f"Inference {os.path.basename(p)}: {time.time()-t0:.3f}s")
    res.show()

# 11. Cleanup
torch.cuda.empty_cache()
gc.collect()
print("✅ Done — Dynamo disabled and no labels.cache warnings")
