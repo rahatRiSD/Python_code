{
 "cells": [
  {
   "cell_type": "code",
   "execution_count": null,
   "id": "9603e5c1-ce69-4df8-a90f-9d0f61e183db",
   "metadata": {},
   "outputs": [],
   "source": []
  }
 ],
 "metadata": {
  "kernelspec": {
   "display_name": "",
   "name": ""
  },
  "language_info": {
   "name": ""
  }
 },
 "nbformat": 4,
 "nbformat_minor": 5
}
