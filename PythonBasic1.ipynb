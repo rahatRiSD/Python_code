{
 "cells": [
  {
   "cell_type": "markdown",
   "id": "7d077448-4ba3-4375-bb42-7efc033be9cd",
   "metadata": {},
   "source": [
    "# Break and continue"
   ]
  },
  {
   "cell_type": "code",
   "execution_count": 3,
   "id": "eabda50e-3413-4e43-b8ac-fa05ae6438f5",
   "metadata": {},
   "outputs": [
    {
     "name": "stdout",
     "output_type": "stream",
     "text": [
      "3\n",
      "5\n",
      "7\n",
      "9\n",
      "11\n",
      "13\n",
      "15\n",
      "17\n",
      "19\n",
      "21\n",
      "23\n",
      "25\n",
      "27\n",
      "29\n"
     ]
    }
   ],
   "source": [
    "#Odd number\n",
    "for i in range(2,30,1):\n",
    "    if i%2==0:\n",
    "        continue\n",
    "    print(i)"
   ]
  },
  {
   "cell_type": "code",
   "execution_count": 7,
   "id": "8e4024f6-99ed-474b-877c-35f79ae1637c",
   "metadata": {},
   "outputs": [
    {
     "name": "stdout",
     "output_type": "stream",
     "text": [
      "2\n",
      "4\n",
      "6\n",
      "8\n",
      "10\n",
      "12\n",
      "14\n",
      "16\n",
      "18\n",
      "20\n",
      "22\n",
      "24\n",
      "26\n",
      "28\n"
     ]
    }
   ],
   "source": [
    "#Even number\n",
    "for i in range(2,30,1):\n",
    "    if i%2!=0:\n",
    "        continue# skip it print other value\n",
    "    print(i)"
   ]
  },
  {
   "cell_type": "code",
   "execution_count": 13,
   "id": "43244c0e-512e-425b-bd1b-5e670a2e114d",
   "metadata": {},
   "outputs": [
    {
     "name": "stdout",
     "output_type": "stream",
     "text": [
      "2\n",
      "3\n",
      "4\n",
      "5\n",
      "6\n",
      "7\n",
      "8\n",
      "9\n",
      "10\n",
      "11\n",
      "12\n",
      "13\n",
      "14\n",
      "15\n",
      "16\n",
      "17\n",
      "18\n",
      "19\n"
     ]
    }
   ],
   "source": [
    "#Odd number\n",
    "for i in range(2,30,1):\n",
    "    if i==20:\n",
    "        break#stop it right there\n",
    "    print(i)"
   ]
  },
  {
   "cell_type": "code",
   "execution_count": 15,
   "id": "71455154-2865-438c-82b2-7a54f5deb22c",
   "metadata": {},
   "outputs": [
    {
     "name": "stdout",
     "output_type": "stream",
     "text": [
      "['Rahat', 'Rihan']\n"
     ]
    }
   ],
   "source": [
    "L1=[\"Rahat\",\"Rihan\"]\n",
    "print(L1)"
   ]
  },
  {
   "cell_type": "markdown",
   "id": "f0ceca63-2303-45ca-a950-b7ea23acc955",
   "metadata": {},
   "source": [
    "# List"
   ]
  },
  {
   "cell_type": "code",
   "execution_count": 23,
   "id": "43ac0cde-9f16-4e15-9825-1421afd445c7",
   "metadata": {},
   "outputs": [
    {
     "name": "stdout",
     "output_type": "stream",
     "text": [
      "[1, 2, 3, 4, 5, 'Mango', True, [3, 5, 6], 'AI']\n"
     ]
    }
   ],
   "source": [
    "L2=[1,2,3,4,5,'Mango',True,[3,5,6],'AI']\n",
    "print(L2)"
   ]
  },
  {
   "cell_type": "code",
   "execution_count": 29,
   "id": "fc0505f8-e718-4443-a07b-fe5d1422dd2c",
   "metadata": {},
   "outputs": [
    {
     "name": "stdout",
     "output_type": "stream",
     "text": [
      "1\n",
      "2\n",
      "3\n",
      "4\n",
      "5\n",
      "True\n",
      "[3, 5, 6]\n",
      "AI\n"
     ]
    }
   ],
   "source": [
    "for i in L2:\n",
    "    if i=='Mango':\n",
    "        continue\n",
    "    print(i)"
   ]
  },
  {
   "cell_type": "code",
   "execution_count": 31,
   "id": "0dc5579c-470d-4dc8-a5c4-0b9b4f393c8a",
   "metadata": {},
   "outputs": [
    {
     "data": {
      "text/plain": [
       "list"
      ]
     },
     "execution_count": 31,
     "metadata": {},
     "output_type": "execute_result"
    }
   ],
   "source": [
    "type(L2)"
   ]
  },
  {
   "cell_type": "code",
   "execution_count": 35,
   "id": "5abc1275-c000-436d-bd8f-f56b451a5b6a",
   "metadata": {},
   "outputs": [
    {
     "data": {
      "text/plain": [
       "128"
      ]
     },
     "execution_count": 35,
     "metadata": {},
     "output_type": "execute_result"
    }
   ],
   "source": [
    "import sys\n",
    "sys.getsizeof(L2)"
   ]
  },
  {
   "cell_type": "code",
   "execution_count": 37,
   "id": "0ef0a52e-92dd-4045-b9c0-6bf5ff3266bd",
   "metadata": {},
   "outputs": [
    {
     "data": {
      "text/plain": [
       "[1, 2, 3, 4, 5, 'Mango', True, [3, 5, 6], 'AI']"
      ]
     },
     "execution_count": 37,
     "metadata": {},
     "output_type": "execute_result"
    }
   ],
   "source": [
    "L2"
   ]
  },
  {
   "cell_type": "code",
   "execution_count": 39,
   "id": "be7639e9-00e0-4dee-b306-b9539a3e22c4",
   "metadata": {},
   "outputs": [
    {
     "data": {
      "text/plain": [
       "[1, 2, 3, 4, 5, 'Mango', True, [3, 5, 6], 'AI', 'AIUB']"
      ]
     },
     "execution_count": 39,
     "metadata": {},
     "output_type": "execute_result"
    }
   ],
   "source": [
    "L2.append('AIUB')\n",
    "L2"
   ]
  },
  {
   "cell_type": "code",
   "execution_count": 43,
   "id": "0a0655be-adf7-466d-b28f-8d31ae8dac06",
   "metadata": {},
   "outputs": [],
   "source": [
    "l3=[1,3,2,5,4,3,5,3,45,3,2,4,4,34,23,2,3,2,4,455,43]\n",
    "l3.sort()"
   ]
  },
  {
   "cell_type": "code",
   "execution_count": 45,
   "id": "f1bc3c5a-61c7-4d4b-86c6-942de2813f4e",
   "metadata": {},
   "outputs": [
    {
     "data": {
      "text/plain": [
       "[1, 2, 2, 2, 2, 3, 3, 3, 3, 3, 4, 4, 4, 4, 5, 5, 23, 34, 43, 45, 455]"
      ]
     },
     "execution_count": 45,
     "metadata": {},
     "output_type": "execute_result"
    }
   ],
   "source": [
    "l3"
   ]
  },
  {
   "cell_type": "code",
   "execution_count": 49,
   "id": "65abbd06-1220-46c5-bcde-869c62a9347c",
   "metadata": {},
   "outputs": [],
   "source": [
    "l3.reverse()"
   ]
  },
  {
   "cell_type": "code",
   "execution_count": 51,
   "id": "1e3c0d60-fa91-4833-8b84-d2e25ae7209b",
   "metadata": {},
   "outputs": [
    {
     "data": {
      "text/plain": [
       "[455, 45, 43, 34, 23, 5, 5, 4, 4, 4, 4, 3, 3, 3, 3, 3, 2, 2, 2, 2, 1]"
      ]
     },
     "execution_count": 51,
     "metadata": {},
     "output_type": "execute_result"
    }
   ],
   "source": [
    "l3"
   ]
  },
  {
   "cell_type": "code",
   "execution_count": 53,
   "id": "66fcf94b-6106-43ed-968d-d41cc02a99ef",
   "metadata": {},
   "outputs": [
    {
     "data": {
      "text/plain": [
       "34"
      ]
     },
     "execution_count": 53,
     "metadata": {},
     "output_type": "execute_result"
    }
   ],
   "source": [
    "l3.pop(3)"
   ]
  },
  {
   "cell_type": "code",
   "execution_count": 55,
   "id": "ad190e32-f694-4c47-826e-ce36b7c4ce78",
   "metadata": {},
   "outputs": [
    {
     "data": {
      "text/plain": [
       "[455, 45, 43, 23, 5, 5, 4, 4, 4, 4, 3, 3, 3, 3, 3, 2, 2, 2, 2, 1]"
      ]
     },
     "execution_count": 55,
     "metadata": {},
     "output_type": "execute_result"
    }
   ],
   "source": [
    "l3\n"
   ]
  },
  {
   "cell_type": "markdown",
   "id": "07d5efad-c413-45c4-aab4-318ec146f1aa",
   "metadata": {},
   "source": [
    "# List Comprehension"
   ]
  },
  {
   "cell_type": "code",
   "execution_count": 59,
   "id": "61714f8e-cff2-4098-8910-cbcab5763f8a",
   "metadata": {},
   "outputs": [
    {
     "name": "stdout",
     "output_type": "stream",
     "text": [
      "455\n",
      "45\n",
      "43\n",
      "23\n",
      "5\n",
      "5\n",
      "4\n",
      "4\n",
      "4\n",
      "4\n",
      "3\n",
      "3\n",
      "3\n",
      "3\n",
      "3\n",
      "2\n",
      "2\n",
      "2\n",
      "2\n",
      "1\n"
     ]
    }
   ],
   "source": [
    "for i in l3:\n",
    "    print(i)"
   ]
  },
  {
   "cell_type": "code",
   "execution_count": 61,
   "id": "c4af03b7-0cad-4b83-90c3-323fe5077bbe",
   "metadata": {},
   "outputs": [],
   "source": [
    "li=[2,3,4,5,6,7]\n",
    "tupple=(2,3,4,5,6,7)\n",
    "se={2,3,4,5,6,7}"
   ]
  },
  {
   "cell_type": "code",
   "execution_count": 63,
   "id": "775e2b14-92a9-4e1e-96fb-7bd0323cd085",
   "metadata": {},
   "outputs": [
    {
     "data": {
      "text/plain": [
       "{2, 3, 4, 5, 6, 7}"
      ]
     },
     "execution_count": 63,
     "metadata": {},
     "output_type": "execute_result"
    }
   ],
   "source": [
    "li#Mutable\n",
    "tupple#Immutable\n",
    "se"
   ]
  },
  {
   "cell_type": "code",
   "execution_count": 65,
   "id": "9b6409b2-9789-4a11-8a05-59be18ead09e",
   "metadata": {},
   "outputs": [
    {
     "data": {
      "text/plain": [
       "[2, 3, 4, 5, 6, 7]"
      ]
     },
     "execution_count": 65,
     "metadata": {},
     "output_type": "execute_result"
    }
   ],
   "source": [
    "li"
   ]
  },
  {
   "cell_type": "code",
   "execution_count": 67,
   "id": "161eac6c-5c4e-493f-b8de-d5dfa2710acc",
   "metadata": {},
   "outputs": [
    {
     "data": {
      "text/plain": [
       "(2, 3, 4, 5, 6, 7)"
      ]
     },
     "execution_count": 67,
     "metadata": {},
     "output_type": "execute_result"
    }
   ],
   "source": [
    "tupple"
   ]
  },
  {
   "cell_type": "code",
   "execution_count": 69,
   "id": "8b77fe03-6c0d-45f9-a5db-6ac0e204aaa1",
   "metadata": {},
   "outputs": [
    {
     "name": "stdout",
     "output_type": "stream",
     "text": [
      "List= 104\n",
      "Tupple= 88\n",
      "Set= 472\n"
     ]
    }
   ],
   "source": [
    "print(\"List=\",sys.getsizeof(li))\n",
    "print(\"Tupple=\",sys.getsizeof(tupple))\n",
    "print(\"Set=\",sys.getsizeof(se))"
   ]
  },
  {
   "cell_type": "markdown",
   "id": "d445e640-0c03-4c35-aafa-bdcdfce2c10f",
   "metadata": {},
   "source": [
    "# Tupple Slicing"
   ]
  },
  {
   "cell_type": "code",
   "execution_count": 72,
   "id": "1a69eb4d-3fe2-4f21-ba35-47a69d5bfc3c",
   "metadata": {},
   "outputs": [
    {
     "data": {
      "text/plain": [
       "(2, 3, 4, 5, 6, 7)"
      ]
     },
     "execution_count": 72,
     "metadata": {},
     "output_type": "execute_result"
    }
   ],
   "source": [
    "tupple"
   ]
  },
  {
   "cell_type": "code",
   "execution_count": 74,
   "id": "78b10734-9530-4b55-8cb1-2f5cfeddc498",
   "metadata": {},
   "outputs": [
    {
     "data": {
      "text/plain": [
       "(2, 3, 6, 7)"
      ]
     },
     "execution_count": 74,
     "metadata": {},
     "output_type": "execute_result"
    }
   ],
   "source": [
    " tupple[:2] + tupple[4:]"
   ]
  },
  {
   "cell_type": "code",
   "execution_count": 76,
   "id": "a79ac5c8-0877-466e-a2c6-dddb2d453773",
   "metadata": {},
   "outputs": [
    {
     "data": {
      "text/plain": [
       "tuple"
      ]
     },
     "execution_count": 76,
     "metadata": {},
     "output_type": "execute_result"
    }
   ],
   "source": [
    "type(tupple)"
   ]
  },
  {
   "cell_type": "code",
   "execution_count": 82,
   "id": "bdef39ea-c211-4952-8690-8ec85283f920",
   "metadata": {},
   "outputs": [
    {
     "data": {
      "text/plain": [
       "2"
      ]
     },
     "execution_count": 82,
     "metadata": {},
     "output_type": "execute_result"
    }
   ],
   "source": [
    "tupple[0]\n"
   ]
  },
  {
   "cell_type": "markdown",
   "id": "8272a8da-f705-4973-a053-c1865e5fb89b",
   "metadata": {},
   "source": [
    "# Array"
   ]
  },
  {
   "cell_type": "code",
   "execution_count": 85,
   "id": "2cd550d0-35ce-43f3-bc9e-51d6797dba84",
   "metadata": {},
   "outputs": [],
   "source": [
    "import array"
   ]
  },
  {
   "cell_type": "markdown",
   "id": "f21efc0a-eb26-4d1d-8439-db78b1f0a422",
   "metadata": {},
   "source": [
    "# Dictionary"
   ]
  },
  {
   "cell_type": "code",
   "execution_count": 88,
   "id": "37c7d36a-1c0b-4e59-ac85-7191e6cf1d4d",
   "metadata": {},
   "outputs": [],
   "source": [
    "dic={\n",
    "    'Name':'Sakil Hasan',\n",
    "    'Age':34,\n",
    "    'Varsity':'AIUB'\n",
    "}"
   ]
  },
  {
   "cell_type": "code",
   "execution_count": 90,
   "id": "0dd1203c-a0ca-4c89-9ebf-c76125a28dce",
   "metadata": {},
   "outputs": [
    {
     "data": {
      "text/plain": [
       "{'Name': 'Sakil Hasan', 'Age': 34, 'Varsity': 'AIUB'}"
      ]
     },
     "execution_count": 90,
     "metadata": {},
     "output_type": "execute_result"
    }
   ],
   "source": [
    "dic"
   ]
  },
  {
   "cell_type": "code",
   "execution_count": 92,
   "id": "7e618f7f-60e2-4d80-8762-c06a4344988e",
   "metadata": {},
   "outputs": [
    {
     "data": {
      "text/plain": [
       "dict"
      ]
     },
     "execution_count": 92,
     "metadata": {},
     "output_type": "execute_result"
    }
   ],
   "source": [
    "type(dic)"
   ]
  },
  {
   "cell_type": "code",
   "execution_count": 94,
   "id": "4f3998b0-0f80-4774-9121-b5a0d099b46e",
   "metadata": {},
   "outputs": [],
   "source": [
    "dic['Varsity']='American University'"
   ]
  },
  {
   "cell_type": "code",
   "execution_count": 96,
   "id": "670bf573-2d3a-4a90-b6e7-8d94af3e3120",
   "metadata": {},
   "outputs": [
    {
     "data": {
      "text/plain": [
       "{'Name': 'Sakil Hasan', 'Age': 34, 'Varsity': 'American University'}"
      ]
     },
     "execution_count": 96,
     "metadata": {},
     "output_type": "execute_result"
    }
   ],
   "source": [
    "dic"
   ]
  },
  {
   "cell_type": "code",
   "execution_count": 98,
   "id": "d1e51cb0-3875-4d7c-96ae-69434835216c",
   "metadata": {},
   "outputs": [],
   "source": [
    "import pandas as pd\n"
   ]
  },
  {
   "cell_type": "code",
   "execution_count": 104,
   "id": "2cf28d98-596e-476c-8647-9c853ad66d2c",
   "metadata": {},
   "outputs": [],
   "source": [
    "dic1={\n",
    "    'Name':'Sakil Hasan',\n",
    "    'Age':34,\n",
    "    'Varsity':'AIUB',\n",
    "    'Dept':'CSE'\n",
    "}"
   ]
  },
  {
   "cell_type": "code",
   "execution_count": 123,
   "id": "8f6279f5-e540-489d-8877-8ed6f38ff88f",
   "metadata": {},
   "outputs": [],
   "source": [
    "df=pd.DataFrame([dic1])"
   ]
  },
  {
   "cell_type": "code",
   "execution_count": 129,
   "id": "5b304cc6-1f17-4514-9059-5fba556227cf",
   "metadata": {},
   "outputs": [
    {
     "data": {
      "text/html": [
       "<div>\n",
       "<style scoped>\n",
       "    .dataframe tbody tr th:only-of-type {\n",
       "        vertical-align: middle;\n",
       "    }\n",
       "\n",
       "    .dataframe tbody tr th {\n",
       "        vertical-align: top;\n",
       "    }\n",
       "\n",
       "    .dataframe thead th {\n",
       "        text-align: right;\n",
       "    }\n",
       "</style>\n",
       "<table border=\"1\" class=\"dataframe\">\n",
       "  <thead>\n",
       "    <tr style=\"text-align: right;\">\n",
       "      <th></th>\n",
       "      <th>Name</th>\n",
       "      <th>Age</th>\n",
       "      <th>Varsity</th>\n",
       "      <th>Dept</th>\n",
       "    </tr>\n",
       "  </thead>\n",
       "  <tbody>\n",
       "    <tr>\n",
       "      <th>0</th>\n",
       "      <td>Sakil Hasan</td>\n",
       "      <td>34</td>\n",
       "      <td>AIUB</td>\n",
       "      <td>CSE</td>\n",
       "    </tr>\n",
       "  </tbody>\n",
       "</table>\n",
       "</div>"
      ],
      "text/plain": [
       "          Name  Age Varsity Dept\n",
       "0  Sakil Hasan   34    AIUB  CSE"
      ]
     },
     "execution_count": 129,
     "metadata": {},
     "output_type": "execute_result"
    }
   ],
   "source": [
    "l3\n",
    "\n",
    "df"
   ]
  },
  {
   "cell_type": "code",
   "execution_count": 125,
   "id": "fce79843-e790-43cd-8dea-233bad837e9c",
   "metadata": {},
   "outputs": [
    {
     "data": {
      "text/plain": [
       "{'Name': 'Sakil Hasan', 'Age': 34, 'Varsity': 'AIUB', 'Dept': 'CSE'}"
      ]
     },
     "execution_count": 125,
     "metadata": {},
     "output_type": "execute_result"
    }
   ],
   "source": [
    "dic1"
   ]
  },
  {
   "cell_type": "code",
   "execution_count": 116,
   "id": "5a6939ac-6679-45b5-a94e-52c2c423b1de",
   "metadata": {},
   "outputs": [
    {
     "name": "stdout",
     "output_type": "stream",
     "text": [
      "[1 1 1]\n",
      "[1 1 1]\n"
     ]
    }
   ],
   "source": [
    "import pandas as pd \n",
    "import numpy as np\n",
    "\n",
    "# A structured array\n",
    "my_array = np.ones(3, dtype=([('foo', int), ('bar', float)]))\n",
    "# Print the structured array\n",
    "print(my_array['foo'])\n",
    "\n",
    "# A record array\n",
    "my_array2 = my_array.view(np.recarray)\n",
    "# Print the record array\n",
    "print(my_array2.foo)"
   ]
  },
  {
   "cell_type": "code",
   "execution_count": 127,
   "id": "bb1ff3f8-550d-4ddd-bb77-c1c2451489d1",
   "metadata": {},
   "outputs": [
    {
     "data": {
      "text/html": [
       "<div>\n",
       "<style scoped>\n",
       "    .dataframe tbody tr th:only-of-type {\n",
       "        vertical-align: middle;\n",
       "    }\n",
       "\n",
       "    .dataframe tbody tr th {\n",
       "        vertical-align: top;\n",
       "    }\n",
       "\n",
       "    .dataframe thead th {\n",
       "        text-align: right;\n",
       "    }\n",
       "</style>\n",
       "<table border=\"1\" class=\"dataframe\">\n",
       "  <thead>\n",
       "    <tr style=\"text-align: right;\">\n",
       "      <th></th>\n",
       "      <th>Name</th>\n",
       "      <th>Age</th>\n",
       "      <th>Varsity</th>\n",
       "      <th>Dept</th>\n",
       "    </tr>\n",
       "  </thead>\n",
       "  <tbody>\n",
       "    <tr>\n",
       "      <th>0</th>\n",
       "      <td>Sakil Hasan</td>\n",
       "      <td>34</td>\n",
       "      <td>AIUB</td>\n",
       "      <td>CSE</td>\n",
       "    </tr>\n",
       "  </tbody>\n",
       "</table>\n",
       "</div>"
      ],
      "text/plain": [
       "          Name  Age Varsity Dept\n",
       "0  Sakil Hasan   34    AIUB  CSE"
      ]
     },
     "execution_count": 127,
     "metadata": {},
     "output_type": "execute_result"
    }
   ],
   "source": [
    "import pandas as pd\n",
    "\n",
    "# Creating the dictionary\n",
    "dic1 = {\n",
    "    'Name': 'Sakil Hasan',\n",
    "    'Age': 34,\n",
    "    'Varsity': 'AIUB',\n",
    "    'Dept': 'CSE'\n",
    "}\n",
    "\n",
    "# Converting the dictionary into a DataFrame\n",
    "df = pd.DataFrame([dic1])\n",
    "\n",
    "# Displaying the DataFrame\n",
    "df\n"
   ]
  },
  {
   "cell_type": "code",
   "execution_count": 131,
   "id": "fec1bb26-a837-4ddf-8d43-0e88804e2b46",
   "metadata": {},
   "outputs": [
    {
     "data": {
      "text/html": [
       "<div>\n",
       "<style scoped>\n",
       "    .dataframe tbody tr th:only-of-type {\n",
       "        vertical-align: middle;\n",
       "    }\n",
       "\n",
       "    .dataframe tbody tr th {\n",
       "        vertical-align: top;\n",
       "    }\n",
       "\n",
       "    .dataframe thead th {\n",
       "        text-align: right;\n",
       "    }\n",
       "</style>\n",
       "<table border=\"1\" class=\"dataframe\">\n",
       "  <thead>\n",
       "    <tr style=\"text-align: right;\">\n",
       "      <th></th>\n",
       "      <th>Age</th>\n",
       "      <th>Varsity</th>\n",
       "      <th>Dept</th>\n",
       "    </tr>\n",
       "  </thead>\n",
       "  <tbody>\n",
       "    <tr>\n",
       "      <th>0</th>\n",
       "      <td>34</td>\n",
       "      <td>AIUB</td>\n",
       "      <td>CSE</td>\n",
       "    </tr>\n",
       "  </tbody>\n",
       "</table>\n",
       "</div>"
      ],
      "text/plain": [
       "   Age Varsity Dept\n",
       "0   34    AIUB  CSE"
      ]
     },
     "execution_count": 131,
     "metadata": {},
     "output_type": "execute_result"
    }
   ],
   "source": [
    "df.drop('Name',axis=1)"
   ]
  },
  {
   "cell_type": "code",
   "execution_count": null,
   "id": "76fb44f7-49df-451c-afab-a5efa5a83b94",
   "metadata": {},
   "outputs": [],
   "source": []
  }
 ],
 "metadata": {
  "kernelspec": {
   "display_name": "Python 3 (ipykernel)",
   "language": "python",
   "name": "python3"
  },
  "language_info": {
   "codemirror_mode": {
    "name": "ipython",
    "version": 3
   },
   "file_extension": ".py",
   "mimetype": "text/x-python",
   "name": "python",
   "nbconvert_exporter": "python",
   "pygments_lexer": "ipython3",
   "version": "3.12.7"
  }
 },
 "nbformat": 4,
 "nbformat_minor": 5
}
