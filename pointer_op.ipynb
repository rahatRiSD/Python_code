{
 "cells": [
  {
   "cell_type": "markdown",
   "id": "bf785fa4-fa3a-4d27-b187-ffc07b865afb",
   "metadata": {},
   "source": [
    "# Pointer"
   ]
  },
  {
   "cell_type": "code",
   "execution_count": 1,
   "id": "adafb2a9-eeb3-43d6-a92e-4d7cfdeb94e6",
   "metadata": {},
   "outputs": [
    {
     "name": "stdin",
     "output_type": "stream",
     "text": [
      "Enter the size of the array:  4\n",
      "Enter 4 elements:  4\n"
     ]
    },
    {
     "name": "stdout",
     "output_type": "stream",
     "text": [
      "Original array: 4\n",
      "Sorted array: 4\n",
      "Minimum value: 4\n",
      "Maximum value: 4\n",
      "Reversed array: 4\n"
     ]
    }
   ],
   "source": [
    "import sys\n",
    "\n",
    "def find_min_max(arr):\n",
    "    return min(arr), max(arr)\n",
    "\n",
    "def bubble_sort(arr):\n",
    "    n = len(arr)\n",
    "    for i in range(n - 1):\n",
    "        for j in range(n - i - 1):\n",
    "            if arr[j] > arr[j + 1]:\n",
    "                arr[j], arr[j + 1] = arr[j + 1], arr[j]\n",
    "\n",
    "def reverse_array(arr):\n",
    "    return arr[::-1]\n",
    "\n",
    "def display_array(arr):\n",
    "    print(\" \".join(map(str, arr)))\n",
    "\n",
    "def main():\n",
    "    size = int(input(\"Enter the size of the array: \"))\n",
    "    arr = list(map(int, input(f\"Enter {size} elements: \").split()))\n",
    "    \n",
    "    min_val, max_val = find_min_max(arr)\n",
    "    print(\"Original array:\", end=\" \")\n",
    "    display_array(arr)\n",
    "    \n",
    "    bubble_sort(arr)\n",
    "    print(\"Sorted array:\", end=\" \")\n",
    "    display_array(arr)\n",
    "    \n",
    "    print(\"Minimum value:\", min_val)\n",
    "    print(\"Maximum value:\", max_val)\n",
    "    \n",
    "    arr = reverse_array(arr)\n",
    "    print(\"Reversed array:\", end=\" \")\n",
    "    display_array(arr)\n",
    "\n",
    "if __name__ == \"__main__\":\n",
    "    main()\n"
   ]
  },
  {
   "cell_type": "code",
   "execution_count": null,
   "id": "cde57bcb-4579-4b4a-9d0d-58bfe01673c0",
   "metadata": {},
   "outputs": [],
   "source": []
  }
 ],
 "metadata": {
  "kernelspec": {
   "display_name": "Python 3 (ipykernel)",
   "language": "python",
   "name": "python3"
  },
  "language_info": {
   "codemirror_mode": {
    "name": "ipython",
    "version": 3
   },
   "file_extension": ".py",
   "mimetype": "text/x-python",
   "name": "python",
   "nbconvert_exporter": "python",
   "pygments_lexer": "ipython3",
   "version": "3.12.7"
  }
 },
 "nbformat": 4,
 "nbformat_minor": 5
}
